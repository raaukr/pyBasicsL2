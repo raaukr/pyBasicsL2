{
 "cells": [
  {
   "cell_type": "markdown",
   "id": "79d790fd",
   "metadata": {},
   "source": [
    "# Моя друга лабка з Python"
   ]
  },
  {
   "cell_type": "markdown",
   "id": "c07ea2c7",
   "metadata": {},
   "source": [
    "Створити обʼєктну модель організації.\n",
    "\n",
    "В огранізації повинно бути 3 типи робітників Employee: Developer, Designer & Manager.\n",
    "У кожного Employee повинні бути поля:\n",
    "* Імʼя\n",
    "* Призвіще\n",
    "* базова заробітна плата\n",
    "* досвід (у роках)\n",
    "\n",
    "У Designer додатково повинен бути коефіцієнт ефективності - число від 0 до 1.\n",
    "У Manager повинна бути команда (список) що складається з довільної кількості Developer та Designer."
   ]
  },
  {
   "cell_type": "code",
   "execution_count": 3,
   "id": "0528748d",
   "metadata": {},
   "outputs": [],
   "source": [
    "class Employee():\n",
    "\n",
    "    species = \"employee\"\n",
    "\n",
    "    def __init__(self, name, surname, salary, experience):\n",
    "        self.name = name\n",
    "        self.surname = surname\n",
    "        self.salary = salary\n",
    "        self.experience = experience\n",
    "\n",
    "    ###############3##################\n",
    "    def countedSalary(self):\n",
    "        if self.experience > 5:\n",
    "            return self.salary * 1.2 + 500\n",
    "        elif self.experience > 2:\n",
    "            return self.salary + 200\n",
    "        else:\n",
    "            return self.salary\n",
    "\n",
    "class Developer(Employee):\n",
    "    def __init__(self, name, surname, salary, experience, programming_language):\n",
    "        super().__init__(name, surname, salary, experience)\n",
    "        self.programming_language = programming_language\n",
    "\n",
    "class Designer(Employee):\n",
    "    def __init__(self, name, surname, salary, experience, efficiency):\n",
    "        super().__init__(name, surname, salary, experience)\n",
    "        self.efficiency = efficiency\n",
    "\n",
    "    ###############3##################\n",
    "    def countedSalary(self):\n",
    "        salary = super().countedSalary()\n",
    "        return salary * self.efficiency\n",
    "\n",
    "class Manager(Employee):\n",
    "    def __init__(self, name, surname, salary, experience, team=None):\n",
    "        super().__init__(name, surname, salary, experience)\n",
    "        if team is None:\n",
    "            team = []\n",
    "        self.team = team\n",
    "\n",
    "    def add_to_team(self, employee):\n",
    "        self.team.append(employee)\n",
    "\n",
    "    def remove_from_team(self, employee):\n",
    "        self.team.remove(employee)\n",
    "\n",
    "    ###############3##################\n",
    "    def countedSalary(self):\n",
    "        salary = super().countedSalary()\n",
    "        if len(self.team) > 10:\n",
    "            salary += 300\n",
    "        elif len(self.team) > 5:\n",
    "            salary += 200\n",
    "\n",
    "        developer_count = sum(1 for employee in self.team if isinstance(employee, Developer))\n",
    "\n",
    "        if developer_count > len(self.team) / 2:\n",
    "            salary *= 1.1\n",
    "\n",
    "        return salary"
   ]
  },
  {
   "cell_type": "code",
   "execution_count": 4,
   "id": "21f35e20",
   "metadata": {},
   "outputs": [
    {
     "name": "stdout",
     "output_type": "stream",
     "text": [
      "Oliver is employee\n",
      "Mia is also employee\n",
      "Oliver Davis experience: 4 years\n",
      "Mia Jones experience is 3 years and efficiency is 0.8\n",
      "Lucas Clark experience: 2 years and salary is 1200$\n"
     ]
    }
   ],
   "source": [
    "developer = Developer(\"Oliver\", \"Davis\", 1200, 4, \"Python\")\n",
    "designer = Designer(\"Mia\", \"Jones\", 1200, 3, 0.8)\n",
    "manager = Manager(\"Lucas\", \"Clark\", 1200, 2)\n",
    "\n",
    "print(\"Oliver is {}\".format(developer.__class__.species))\n",
    "print(\"Mia is also {}\".format(designer.__class__.species))\n",
    "\n",
    "\n",
    "print(\"{} {} experience: {} years\".format(developer.name, developer.surname, developer.experience))\n",
    "print(\"{} {} experience is {} years and efficiency is {}\".format(designer.name, designer.surname, designer.experience, designer.efficiency))\n",
    "print(\"{} {} experience: {} years and salary is {}$\".format(manager.name, manager.surname, manager.experience, manager.salary))"
   ]
  },
  {
   "cell_type": "markdown",
   "id": "40a7bc6d",
   "metadata": {},
   "source": [
    "Створити обʼєкт Department, що містить список Manager (які в свою чергу містять команди).\n",
    "\n",
    "Department повинен мати метод giveSalary() який повинен надрукувати зарплату ВСІХ Employee цієї організації в форматі \"іʼмя призвіще отримав <число> шекєлей\"."
   ]
  },
  {
   "cell_type": "code",
   "execution_count": 5,
   "id": "044e874a",
   "metadata": {},
   "outputs": [],
   "source": [
    "class Department:\n",
    "    def __init__(self, managers=None):\n",
    "        if managers is None:\n",
    "            managers = []\n",
    "        self.managers = managers\n",
    "\n",
    "    def add_manager(self, manager):\n",
    "        self.managers.append(manager)\n",
    "\n",
    "    def give_salary(self):\n",
    "        for manager in self.managers:\n",
    "            for employee in manager.team:\n",
    "                salary = employee.salary\n",
    "                print(f\"{employee.name} {employee.surname} отримав {salary} шекелів.\")"
   ]
  },
  {
   "cell_type": "code",
   "execution_count": 6,
   "id": "1db7516f",
   "metadata": {
    "scrolled": true
   },
   "outputs": [
    {
     "name": "stdout",
     "output_type": "stream",
     "text": [
      "Sam Parker отримав 1000 шекелів.\n",
      "Marry Shine отримав 3000 шекелів.\n",
      "Robert Dingo отримав 2000 шекелів.\n",
      "Sam Pit отримав 1900 шекелів.\n",
      "Misi Stuert отримав 2600 шекелів.\n",
      "Dan Searcher отримав 2000 шекелів.\n",
      "Kity Dance отримав 4000 шекелів.\n",
      "Draik City отримав 2500 шекелів.\n"
     ]
    }
   ],
   "source": [
    "department = Department()\n",
    "\n",
    "developer1 = Developer(\"Sam\", \"Parker\", 1000, 8, \"Python\")\n",
    "developer2 = Developer(\"Robert\", \"Dingo\", 2000, 3, \"C++\")\n",
    "developer3 = Developer(\"Sam\", \"Pit\", 1900, 4, \"Java\")\n",
    "developer4 = Developer(\"Misi\", \"Stuert\", 2600, 6, \"php\")\n",
    "\n",
    "designer1 = Designer(\"Marry\", \"Shine\", 3000, 7, 0.7)\n",
    "designer2 = Designer(\"Dan\", \"Searcher\", 2000, 3, 0.6)\n",
    "designer3 = Designer(\"Kity\", \"Dance\", 4000, 6, 0.9)\n",
    "designer4 = Designer(\"Draik\", \"City\", 2500, 4, 0.6)\n",
    "\n",
    "\n",
    "manager1 = Manager(\"Fin\", \"Fillow\", 3000, 4)\n",
    "manager2 = Manager(\"Rick\", \"Chillovskiy\", 3000, 5)\n",
    "\n",
    "manager1.add_to_team(developer1)\n",
    "manager1.add_to_team(designer1)\n",
    "manager2.add_to_team(developer2)\n",
    "manager2.add_to_team(developer3)\n",
    "manager2.add_to_team(developer4)\n",
    "manager2.add_to_team(designer2)\n",
    "manager2.add_to_team(designer3)\n",
    "manager2.add_to_team(designer4)\n",
    "\n",
    "department.add_manager(manager1)\n",
    "department.add_manager(manager2)\n",
    "\n",
    "department.give_salary()"
   ]
  },
  {
   "cell_type": "markdown",
   "id": "71ec18dc",
   "metadata": {},
   "source": [
    "Зарплата countedSalary для кожного Employee обраховується з поля base salary (базова заробітна плата) плюс якщо його досвід роботи більше 2 років, він отримує baseSalary + 200, але якщо його досвід більше 5 років - він отримує baseSalary * 1.2 + 500.\n",
    "\n",
    "-- Додатково, на зп Designer впливає коефіцієнт ефективності countedSalary * effCoeff.\n",
    "\n",
    "-- Додатково, зп Manager розраховується з countedSalary плюс:\n",
    "* якщо в його команді більше 5 людей - countedSalary + 200, але якщо в його команді більше 10 людей то countedSalary + 300.\n",
    "* Додатково, якщо в його команді більше половини Developer - його зп збільшується ще на 10%."
   ]
  },
  {
   "cell_type": "code",
   "execution_count": 9,
   "id": "974ecb63",
   "metadata": {},
   "outputs": [
    {
     "name": "stdout",
     "output_type": "stream",
     "text": [
      "Sam Parker отримав 1700.0 шекелів.\n",
      "Marry Shine отримав 2870.0 шекелів.\n",
      "Fin Fillow отримав 3200 шекелів.\n",
      "Rick Chillovskiy отримав 3400 шекелів.\n"
     ]
    }
   ],
   "source": [
    "print(f\"{developer1.name} {developer1.surname} отримав {developer1.countedSalary()} шекелів.\")\n",
    "print(f\"{designer1.name} {designer1.surname} отримав {designer1.countedSalary()} шекелів.\")\n",
    "print(f\"{manager1.name} {manager1.surname} отримав {manager1.countedSalary()} шекелів.\")\n",
    "print(f\"{manager2.name} {manager2.surname} отримав {manager2.countedSalary()} шекелів.\")"
   ]
  }
 ],
 "metadata": {
  "kernelspec": {
   "display_name": "Python 3 (ipykernel)",
   "language": "python",
   "name": "python3"
  },
  "language_info": {
   "codemirror_mode": {
    "name": "ipython",
    "version": 3
   },
   "file_extension": ".py",
   "mimetype": "text/x-python",
   "name": "python",
   "nbconvert_exporter": "python",
   "pygments_lexer": "ipython3",
   "version": "3.11.2"
  }
 },
 "nbformat": 4,
 "nbformat_minor": 5
}
